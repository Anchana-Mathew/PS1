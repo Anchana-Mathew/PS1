{
 "cells": [
  {
   "cell_type": "markdown",
   "id": "0f8c8c30",
   "metadata": {},
   "source": [
    "# Question-1"
   ]
  },
  {
   "cell_type": "code",
   "execution_count": 1,
   "id": "95cad4ee",
   "metadata": {},
   "outputs": [
    {
     "data": {
      "text/plain": [
       "int"
      ]
     },
     "execution_count": 1,
     "metadata": {},
     "output_type": "execute_result"
    }
   ],
   "source": [
    "type(5)"
   ]
  },
  {
   "cell_type": "code",
   "execution_count": 2,
   "id": "1fbb080a",
   "metadata": {},
   "outputs": [
    {
     "data": {
      "text/plain": [
       "float"
      ]
     },
     "execution_count": 2,
     "metadata": {},
     "output_type": "execute_result"
    }
   ],
   "source": [
    "type(5.0)"
   ]
  },
  {
   "cell_type": "code",
   "execution_count": 3,
   "id": "eded258c",
   "metadata": {},
   "outputs": [
    {
     "data": {
      "text/plain": [
       "bool"
      ]
     },
     "execution_count": 3,
     "metadata": {},
     "output_type": "execute_result"
    }
   ],
   "source": [
    "type(5 > 1)"
   ]
  },
  {
   "cell_type": "code",
   "execution_count": 4,
   "id": "7feb7051",
   "metadata": {},
   "outputs": [
    {
     "data": {
      "text/plain": [
       "str"
      ]
     },
     "execution_count": 4,
     "metadata": {},
     "output_type": "execute_result"
    }
   ],
   "source": [
    "type('5')"
   ]
  },
  {
   "cell_type": "code",
   "execution_count": 5,
   "id": "f312fcf9",
   "metadata": {},
   "outputs": [
    {
     "data": {
      "text/plain": [
       "int"
      ]
     },
     "execution_count": 5,
     "metadata": {},
     "output_type": "execute_result"
    }
   ],
   "source": [
    "type(5 * 2)"
   ]
  },
  {
   "cell_type": "code",
   "execution_count": 6,
   "id": "c78ac63f",
   "metadata": {},
   "outputs": [
    {
     "data": {
      "text/plain": [
       "str"
      ]
     },
     "execution_count": 6,
     "metadata": {},
     "output_type": "execute_result"
    }
   ],
   "source": [
    "type('5' * 2)"
   ]
  },
  {
   "cell_type": "code",
   "execution_count": 7,
   "id": "46fe7685",
   "metadata": {},
   "outputs": [
    {
     "data": {
      "text/plain": [
       "str"
      ]
     },
     "execution_count": 7,
     "metadata": {},
     "output_type": "execute_result"
    }
   ],
   "source": [
    "type('5' + '2')"
   ]
  },
  {
   "cell_type": "code",
   "execution_count": 8,
   "id": "1a32bc4a",
   "metadata": {},
   "outputs": [
    {
     "data": {
      "text/plain": [
       "float"
      ]
     },
     "execution_count": 8,
     "metadata": {},
     "output_type": "execute_result"
    }
   ],
   "source": [
    "type(5 / 2)"
   ]
  },
  {
   "cell_type": "code",
   "execution_count": 9,
   "id": "cfd42571",
   "metadata": {},
   "outputs": [
    {
     "data": {
      "text/plain": [
       "int"
      ]
     },
     "execution_count": 9,
     "metadata": {},
     "output_type": "execute_result"
    }
   ],
   "source": [
    "type(5 % 2)"
   ]
  },
  {
   "cell_type": "code",
   "execution_count": 10,
   "id": "75148ab6",
   "metadata": {},
   "outputs": [
    {
     "data": {
      "text/plain": [
       "set"
      ]
     },
     "execution_count": 10,
     "metadata": {},
     "output_type": "execute_result"
    }
   ],
   "source": [
    "type({5, 2, 1})"
   ]
  },
  {
   "cell_type": "code",
   "execution_count": 11,
   "id": "9b3d3721",
   "metadata": {},
   "outputs": [
    {
     "data": {
      "text/plain": [
       "bool"
      ]
     },
     "execution_count": 11,
     "metadata": {},
     "output_type": "execute_result"
    }
   ],
   "source": [
    "type(5 == 3)"
   ]
  },
  {
   "cell_type": "code",
   "execution_count": null,
   "id": "13de6543",
   "metadata": {},
   "outputs": [],
   "source": []
  },
  {
   "cell_type": "markdown",
   "id": "890a1393",
   "metadata": {},
   "source": [
    "# Question-2 "
   ]
  },
  {
   "cell_type": "markdown",
   "id": "3911fba3",
   "metadata": {},
   "source": [
    "a. How many letters are there in 'Supercalifragilisticexpialidocious'?"
   ]
  },
  {
   "cell_type": "code",
   "execution_count": 12,
   "id": "ecbbfb75",
   "metadata": {},
   "outputs": [
    {
     "name": "stdout",
     "output_type": "stream",
     "text": [
      "34\n"
     ]
    }
   ],
   "source": [
    "word='Supercalifragilisticexpialidocious'\n",
    "print(len(word))"
   ]
  },
  {
   "cell_type": "markdown",
   "id": "c4773b98",
   "metadata": {},
   "source": [
    "b. Does 'Supercalifragilisticexpialidocious' contain 'ice' as a substring?"
   ]
  },
  {
   "cell_type": "code",
   "execution_count": 13,
   "id": "dfd12b47",
   "metadata": {},
   "outputs": [
    {
     "name": "stdout",
     "output_type": "stream",
     "text": [
      "True\n"
     ]
    }
   ],
   "source": [
    "word='Supercalifragilisticexpialidocious'\n",
    "substring='ice'\n",
    "result= substring in word\n",
    "print(result)"
   ]
  },
  {
   "cell_type": "markdown",
   "id": "4c7031a8",
   "metadata": {},
   "source": [
    "c. Which of the following words is the longest:\n",
    "Supercalifragilisticexpialidocious, Honorificabilitudinitatibus, or\n",
    "Bababadalgharaghtakamminarronnkonn?"
   ]
  },
  {
   "cell_type": "code",
   "execution_count": 14,
   "id": "7fa18c67",
   "metadata": {},
   "outputs": [
    {
     "name": "stdout",
     "output_type": "stream",
     "text": [
      "longest word in Supercalifragilisticexpialidocious\n"
     ]
    }
   ],
   "source": [
    "words=[ \"Supercalifragilisticexpialidocious\", \"Honorificabilitudinitatibus\", \"Bababadalgharaghtakamminarronnkonn\"]\n",
    "longest=max(words)\n",
    "print(\"longest word in\", longest)"
   ]
  },
  {
   "cell_type": "markdown",
   "id": "d1169f71",
   "metadata": {},
   "source": [
    "d. Which composer comes first in the dictionary: 'Berlioz', 'Borodin', 'Brian',\n",
    "'Bartok', 'Bellini', 'Buxtehude', 'Bernstein'. Which one comes last?"
   ]
  },
  {
   "cell_type": "code",
   "execution_count": 3,
   "id": "4996207b",
   "metadata": {},
   "outputs": [
    {
     "name": "stdout",
     "output_type": "stream",
     "text": [
      "first composer in the Dictionary is  Bartok\n",
      "first composer in the Dictionary is  Buxtehude\n"
     ]
    }
   ],
   "source": [
    "c=['Berlioz', 'Borodin', 'Brian', 'Bartok', 'Bellini', 'Buxtehude', 'Bernstein']\n",
    "c.sort()\n",
    "print(\"first composer in the Dictionary is \",c[0])\n",
    "print(\"first composer in the Dictionary is \",c[-1])"
   ]
  },
  {
   "cell_type": "markdown",
   "id": "86833608",
   "metadata": {},
   "source": [
    "# Question-3"
   ]
  },
  {
   "cell_type": "markdown",
   "id": "e2fa68cd",
   "metadata": {},
   "source": [
    "Implement function triangleArea(a,b,c) that takes as input the lengths of the 3\n",
    "sides of a triangle and returns the area of the triangle. By Heron's formula, the area\n",
    "of a triangle with side lengths a, b, and c is squareroot of(s - a)(s - b)(s - c) , wheres = (a + b + c) /2\n"
   ]
  },
  {
   "cell_type": "code",
   "execution_count": 4,
   "id": "2c3e152a",
   "metadata": {},
   "outputs": [
    {
     "data": {
      "text/plain": [
       "1.7320508075688772"
      ]
     },
     "execution_count": 4,
     "metadata": {},
     "output_type": "execute_result"
    }
   ],
   "source": [
    "import math\n",
    "def triangleArea(a,b,c):\n",
    "    s=(a + b + c) /2\n",
    "    area=math.sqrt(s*(s - a)*(s - b)*(s - c))\n",
    "    return area\n",
    "triangleArea(2,2,2)"
   ]
  },
  {
   "cell_type": "markdown",
   "id": "0a99b9cc",
   "metadata": {},
   "source": [
    "# Question 4"
   ]
  },
  {
   "cell_type": "markdown",
   "id": "bd24a21b",
   "metadata": {},
   "source": [
    "Write a program in python to separate odd and even integers in separate arrays. Go\n",
    "to the editor\n",
    "Test Data :\n",
    "Input the number of elements to be stored in the array :5\n",
    "Input 5 elements in the array :\n",
    "element - 0 : 25\n",
    "element - 1 : 47\n",
    "element - 2 : 42\n",
    "element - 3 : 56\n",
    "element - 4 : 32\n",
    "Expected Output:\n",
    "The Even elements are:\n",
    "42 56 32\n",
    "The Odd elements are :\n",
    "25 47\n"
   ]
  },
  {
   "cell_type": "code",
   "execution_count": 12,
   "id": "2c665a2c",
   "metadata": {},
   "outputs": [
    {
     "name": "stdout",
     "output_type": "stream",
     "text": [
      "The number of elements to be stored in the array: 5\n",
      "element - 0 : 25\n",
      "element - 1 : 47\n",
      "element - 2 : 42\n",
      "element - 3 : 56\n",
      "element - 4 : 32\n",
      "Even numbers: \n",
      "42 56 32 \n",
      "Odd numbers: \n",
      "25 47 "
     ]
    }
   ],
   "source": [
    "n= int(input(\"The number of elements to be stored in the array: \"))\n",
    "a=[]\n",
    "\n",
    "for i in range(n):\n",
    "    e= int(input(\"element - {} : \".format(i)))\n",
    "    a.append(e)\n",
    "\n",
    "even=[]\n",
    "odd=[]\n",
    "\n",
    "for i in a:\n",
    "    if i % 2 ==0:\n",
    "        even.append(i)\n",
    "    else:\n",
    "        odd.append(i)\n",
    "        \n",
    "print(\"Even numbers: \")\n",
    "for i in even:\n",
    "        print(i, end=\" \")\n",
    "        \n",
    "print(\"\\nOdd numbers: \")\n",
    "for i in odd:\n",
    "        print(i, end=\" \")"
   ]
  },
  {
   "cell_type": "markdown",
   "id": "e9ad426c",
   "metadata": {},
   "source": [
    "# Question 5"
   ]
  },
  {
   "cell_type": "markdown",
   "id": "3dfd94a8",
   "metadata": {},
   "source": [
    "a. Write a function inside(x,y,x1,y1,x2,y2) that returns True or False\n",
    "depending on whether the point (x,y) lies in the rectangle with lower left\n",
    "corner (x1,y1) and upper right corner (x2,y2)."
   ]
  },
  {
   "cell_type": "markdown",
   "id": "f4206e7b",
   "metadata": {},
   "source": [
    "def inside(x,y,x1,y1,x2,y2):\n",
    "    if x>=x1 and x<=x2 and y>=y1 and y<=y2:\n",
    "        return True\n",
    "    else:\n",
    "        return False"
   ]
  },
  {
   "cell_type": "code",
   "execution_count": 14,
   "id": "86031bc8",
   "metadata": {},
   "outputs": [
    {
     "data": {
      "text/plain": [
       "True"
      ]
     },
     "execution_count": 14,
     "metadata": {},
     "output_type": "execute_result"
    }
   ],
   "source": [
    "inside(1,1,0,0,2,3)"
   ]
  },
  {
   "cell_type": "code",
   "execution_count": 15,
   "id": "a1fa540c",
   "metadata": {},
   "outputs": [
    {
     "data": {
      "text/plain": [
       "False"
      ]
     },
     "execution_count": 15,
     "metadata": {},
     "output_type": "execute_result"
    }
   ],
   "source": [
    "inside(-1,-1,0,0,2,3)"
   ]
  },
  {
   "cell_type": "markdown",
   "id": "0314821c",
   "metadata": {},
   "source": [
    "b. Use function inside() from part a. to write an expression that tests whether\n",
    "the point (1,1) lies in both of the following rectangles: one with lower left\n",
    "corner (0.3, 0.5) and upper right corner (1.1, 0.7) and the other with lower\n",
    "left corner (0.5, 0.2) and upper right corner (1.1, 2). "
   ]
  },
  {
   "cell_type": "code",
   "execution_count": 16,
   "id": "1e3c1c1a",
   "metadata": {},
   "outputs": [
    {
     "data": {
      "text/plain": [
       "False"
      ]
     },
     "execution_count": 16,
     "metadata": {},
     "output_type": "execute_result"
    }
   ],
   "source": [
    "inside(1,1,0.3,0.5,1.1, 0.7)"
   ]
  },
  {
   "cell_type": "code",
   "execution_count": 17,
   "id": "e68545fe",
   "metadata": {},
   "outputs": [
    {
     "data": {
      "text/plain": [
       "True"
      ]
     },
     "execution_count": 17,
     "metadata": {},
     "output_type": "execute_result"
    }
   ],
   "source": [
    "inside(1,1,0.5, 0.2,1.1, 2)"
   ]
  },
  {
   "cell_type": "markdown",
   "id": "133296d0",
   "metadata": {},
   "source": [
    "# Question 6"
   ]
  },
  {
   "cell_type": "markdown",
   "id": "fd6275a1",
   "metadata": {},
   "source": [
    "Write a function pig() that takes a word (i.e., a string) as input and returns its pig-\n",
    "Latin form. Your function should still work if the input word contains upper case\n",
    "characters. Your output should always be lower case however."
   ]
  },
  {
   "cell_type": "code",
   "execution_count": 18,
   "id": "fbfe73dc",
   "metadata": {},
   "outputs": [],
   "source": [
    "def pig(a):\n",
    "    vowels='a,e,i,o,u'\n",
    "    a=a.lower()\n",
    "    if a[0] in vowels:\n",
    "        return a + 'way'\n",
    "    else:\n",
    "        return a[1:] + a[0] + 'ay'"
   ]
  },
  {
   "cell_type": "code",
   "execution_count": 19,
   "id": "ae9b2c93",
   "metadata": {},
   "outputs": [
    {
     "data": {
      "text/plain": [
       "'appyhay'"
      ]
     },
     "execution_count": 19,
     "metadata": {},
     "output_type": "execute_result"
    }
   ],
   "source": [
    "pig('happy')"
   ]
  },
  {
   "cell_type": "code",
   "execution_count": 20,
   "id": "3148195d",
   "metadata": {},
   "outputs": [
    {
     "data": {
      "text/plain": [
       "'enterway'"
      ]
     },
     "execution_count": 20,
     "metadata": {},
     "output_type": "execute_result"
    }
   ],
   "source": [
    "pig('Enter')"
   ]
  },
  {
   "cell_type": "markdown",
   "id": "ee20acbd",
   "metadata": {},
   "source": [
    "# Question 7"
   ]
  },
  {
   "cell_type": "markdown",
   "id": "323d37dd",
   "metadata": {},
   "source": [
    "File bloodtype1.txt records blood-types of patients (A, B, AB, O or OO) at a clinic.\n",
    "Write a function bldcount() that reads the file with name name and reports (i.e.,\n",
    "prints) how many patients there are in each bloodtype."
   ]
  },
  {
   "cell_type": "code",
   "execution_count": 37,
   "id": "79c918d5",
   "metadata": {},
   "outputs": [
    {
     "name": "stdout",
     "output_type": "stream",
     "text": [
      "There are 15 patients of blood type A\n",
      "There are 1 patients of blood type B\n",
      "There are 13 patients of blood type AB\n",
      "There are 15 patients of blood type O\n",
      "There are 0 patients of blood type OO\n"
     ]
    }
   ],
   "source": [
    "def bldcount(file):\n",
    "    count_a=0\n",
    "    count_b=0\n",
    "    count_ab=0\n",
    "    count_o=0\n",
    "    count_oo=0\n",
    "    for bld in file:\n",
    "        types= bld.strip().split()\n",
    "        for bldtype in types:\n",
    "            if bldtype=='A':\n",
    "                count_a +=1\n",
    "            elif bldtype=='B':\n",
    "                count_b +=1\n",
    "            elif bldtype=='AB':\n",
    "                count_ab +=1\n",
    "            elif bldtype=='O':\n",
    "                count_o +=1\n",
    "            elif bldtype=='OO':\n",
    "                count_oo +=1\n",
    "                \n",
    "    print (\"There are\", count_a, \"patients of blood type A\")\n",
    "    print (\"There are\", count_b, \"patients of blood type B\")\n",
    "    print (\"There are\", count_ab, \"patients of blood type AB\")\n",
    "    print (\"There are\", count_o, \"patients of blood type O\")\n",
    "    print (\"There are\", count_oo, \"patients of blood type OO\")\n",
    "    \n",
    "bldfile= open (\"bloodtype.txt\")\n",
    "bldcount(bldfile)"
   ]
  },
  {
   "cell_type": "markdown",
   "id": "523cd6b8",
   "metadata": {},
   "source": [
    "# Question 8"
   ]
  },
  {
   "cell_type": "markdown",
   "id": "972c934e",
   "metadata": {},
   "source": [
    "Write a function curconv() that takes as input:\n",
    "1. a currency represented using a string (e.g., 'JPY' for the Japanese Yen or\n",
    "'EUR' for the Euro)\n",
    "2. an amount\n",
    "and then converts and returns the amount in US dollars."
   ]
  },
  {
   "cell_type": "code",
   "execution_count": 44,
   "id": "ec219cc9",
   "metadata": {},
   "outputs": [],
   "source": [
    "def curconv(C,amt):\n",
    "    openfile= open('currencies.txt','r')\n",
    "\n",
    "    for line in openfile:\n",
    "        split=line.split('\\t')\n",
    "        if(C==split[0]):\n",
    "            C=float(split[1])* amt\n",
    "            return C"
   ]
  },
  {
   "cell_type": "code",
   "execution_count": 45,
   "id": "c8c9af8f",
   "metadata": {},
   "outputs": [
    {
     "data": {
      "text/plain": [
       "122.96544"
      ]
     },
     "execution_count": 45,
     "metadata": {},
     "output_type": "execute_result"
    }
   ],
   "source": [
    "curconv('EUR', 100)"
   ]
  },
  {
   "cell_type": "code",
   "execution_count": 46,
   "id": "807eeb5b",
   "metadata": {},
   "outputs": [
    {
     "data": {
      "text/plain": [
       "1.241401"
      ]
     },
     "execution_count": 46,
     "metadata": {},
     "output_type": "execute_result"
    }
   ],
   "source": [
    "curconv('JPY', 100)"
   ]
  },
  {
   "cell_type": "markdown",
   "id": "12759670",
   "metadata": {},
   "source": [
    "# Question 9"
   ]
  },
  {
   "cell_type": "markdown",
   "id": "498039fc",
   "metadata": {},
   "source": [
    "Each of the following will cause an exception (an error). Identify what type of\n",
    "exception each will cause.\n",
    "1. Trying to add incompatible variables, as in\n",
    "   adding 6 + ‘a’"
   ]
  },
  {
   "cell_type": "markdown",
   "id": "a2d9362a",
   "metadata": {},
   "source": [
    "    TypeError: error ouccurs when performing two variables that are not compatible with each other, such as adding 'int' and                    'str'."
   ]
  },
  {
   "cell_type": "markdown",
   "id": "4e809ac4",
   "metadata": {},
   "source": [
    "2. Referring to the 12th item of a list that has only 10\n",
    "   items."
   ]
  },
  {
   "cell_type": "markdown",
   "id": "24a10b2c",
   "metadata": {},
   "source": [
    "     IndexError: an index in a list that is out of range."
   ]
  },
  {
   "cell_type": "markdown",
   "id": "bbe29672",
   "metadata": {},
   "source": [
    "3. Using a value that is out of range for a function’s\n",
    "   input, such as calling math.sqrt(-1.0)."
   ]
  },
  {
   "cell_type": "markdown",
   "id": "ba5cd3da",
   "metadata": {},
   "source": [
    "    ValueError:  a value to a function that is outside of the acceptable range of values for that function."
   ]
  },
  {
   "cell_type": "markdown",
   "id": "23d812b3",
   "metadata": {},
   "source": [
    "4. Using an undeclared variable, such as print(x)\n",
    "   when x has not been defined."
   ]
  },
  {
   "cell_type": "markdown",
   "id": "29b53990",
   "metadata": {},
   "source": [
    "    NameError: 'x' is not defined"
   ]
  },
  {
   "cell_type": "markdown",
   "id": "d38f43a4",
   "metadata": {},
   "source": [
    "5. Trying to open a file that does not exist, such as mistyping the file name or looking in the wrong directory."
   ]
  },
  {
   "cell_type": "markdown",
   "id": "1123eb22",
   "metadata": {},
   "source": [
    "    FileNotFoundError: [Errno 2] No such file or directory: 'file name'."
   ]
  },
  {
   "cell_type": "markdown",
   "id": "5101fc4f",
   "metadata": {},
   "source": [
    "# Question 10"
   ]
  },
  {
   "cell_type": "markdown",
   "id": "299d17b5",
   "metadata": {},
   "source": [
    "Encryption is the process of hiding the meaning of a text by substituting letters in the message with other letters, according to some system. If the process is successful, no one but the intended recipient can understand the encrypted message. Cryptanalysis refers to attempts to undo the encryption, even if some details of the encryption are unknown (for example, if an encrypted message has been intercepted). The first step of cryptanalysis is often to build up a table of letter frequencies in the encrypted text. Assume that the string letters is already defined as 'abcdefghijklmnopqrstuvwxyz'. Write a function called frequencies() that takes a string as its only parameter, and returns a list of integers, showing the number of times each character appears in the text. Your function may ignore any characters that are not in letters."
   ]
  },
  {
   "cell_type": "code",
   "execution_count": 31,
   "id": "a8d61b64",
   "metadata": {},
   "outputs": [],
   "source": [
    "def frequencies(a):\n",
    "    letters= 'abcdefghijklmnopqrstuvwxyz'\n",
    "    frequency_list = [0] * 26\n",
    "    a = a.lower()\n",
    "    for char in a:\n",
    "        if char in letters:\n",
    "            index = letters.index(char)\n",
    "            frequency_list[index] += 1\n",
    "    return frequency_list"
   ]
  },
  {
   "cell_type": "code",
   "execution_count": 32,
   "id": "8342d56d",
   "metadata": {},
   "outputs": [
    {
     "data": {
      "text/plain": [
       "[1, 1, 1, 3, 5, 1, 1, 2, 1, 0, 1, 0, 1, 2, 4, 0, 1, 2, 0, 3, 1, 0, 1, 1, 0, 0]"
      ]
     },
     "execution_count": 32,
     "metadata": {},
     "output_type": "execute_result"
    }
   ],
   "source": [
    "frequencies('The quick red fox got bored and went home.')"
   ]
  },
  {
   "cell_type": "code",
   "execution_count": 33,
   "id": "d38bd7b5",
   "metadata": {},
   "outputs": [
    {
     "data": {
      "text/plain": [
       "[1, 0, 0, 0, 1, 0, 0, 0, 0, 0, 0, 1, 0, 0, 0, 2, 0, 0, 0, 0, 0, 0, 0, 0, 0, 0]"
      ]
     },
     "execution_count": 33,
     "metadata": {},
     "output_type": "execute_result"
    }
   ],
   "source": [
    "frequencies('apple')"
   ]
  }
 ],
 "metadata": {
  "kernelspec": {
   "display_name": "Python 3 (ipykernel)",
   "language": "python",
   "name": "python3"
  },
  "language_info": {
   "codemirror_mode": {
    "name": "ipython",
    "version": 3
   },
   "file_extension": ".py",
   "mimetype": "text/x-python",
   "name": "python",
   "nbconvert_exporter": "python",
   "pygments_lexer": "ipython3",
   "version": "3.9.13"
  }
 },
 "nbformat": 4,
 "nbformat_minor": 5
}
